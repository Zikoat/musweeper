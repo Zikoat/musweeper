{
 "cells": [
  {
   "cell_type": "code",
   "execution_count": 98,
   "metadata": {
    "collapsed": true,
    "pycharm": {
     "name": "#%%\n"
    }
   },
   "outputs": [],
   "source": [
    "from __future__ import (absolute_import, division,\n",
    "                        print_function, unicode_literals)\n",
    "import time\n",
    "from builtins import *\n",
    "\n",
    "from minesweepr.game import GridMinesweeperGame, trial, BEGINNER, INTERMEDIATE, EXPERT\n"
   ]
  },
  {
   "cell_type": "code",
   "execution_count": 99,
   "outputs": [
    {
     "name": "stdout",
     "output_type": "stream",
     "text": [
      "None\n",
      "43\n",
      "(0, 1)\n",
      "(1, 0)\n",
      "(1, 1)\n",
      "('win', 5, False)\n"
     ]
    }
   ],
   "source": [
    "game = GridMinesweeperGame(8, 8, num_mines=10)\n",
    "\n",
    "cell = game.cell_ids[0]\n",
    "game.sweep(cell)\n",
    "\n",
    "print(game.outcome())\n",
    "print(game.yet_to_uncover)\n",
    "for neighbor in game.adjacent(cell):\n",
    "    print(neighbor)\n",
    "from minesweepr.game import autoplay\n",
    "print(autoplay(game))"
   ],
   "metadata": {
    "collapsed": false,
    "pycharm": {
     "name": "#%%\n"
    }
   }
  },
  {
   "cell_type": "code",
   "execution_count": 100,
   "outputs": [
    {
     "name": "stderr",
     "output_type": "stream",
     "text": [
      "100%|██████████| 100/100 [00:00<00:00, 350.88it/s]\n",
      "111it [00:00, 533.65it/s]              \n",
      "111it [00:00, 131.83it/s]                        \n",
      "104it [00:04, 22.22it/s]                         \n"
     ]
    },
    {
     "name": "stdout",
     "output_type": "stream",
     "text": [
      "starting timing\n",
      "1 BEGINNER flag 0.3s\n",
      "2 BEGINNER noflag 0.2s\n",
      "3 INTERMEDIATE noflag 0.9s\n",
      "4 EXPERT noflag 4.7s\n",
      "None\n"
     ]
    }
   ],
   "source": [
    "class Timing:\n",
    "    def __init__(self):\n",
    "        print(\"starting timing\")\n",
    "        self.checkpoint_number = 0\n",
    "        self.start_time = self.current_time = time.time()\n",
    "        self.checkpoints = []\n",
    "\n",
    "    def checkpoint(self, message=None, data=None):\n",
    "        self.checkpoint_number+=1\n",
    "        self.previous_time = self.current_time\n",
    "        self.current_time = time.time()\n",
    "        self.duration = self.current_time - self.previous_time\n",
    "\n",
    "        print(\"{} {} {:.1f}s\".format(\n",
    "            self.checkpoint_number,\n",
    "            message,\n",
    "            self.duration,\n",
    "        ))\n",
    "        checkpoint = [self.checkpoint_number, self.start_time, self.current_time, self.duration, message]\n",
    "        checkpoint.extend(list(data))\n",
    "        self.checkpoints.append(checkpoint)\n",
    "\n",
    "    def finish(self, message=None):\n",
    "        print(message)\n",
    "        return self.checkpoints\n",
    "\n",
    "\n",
    "t = Timing()\n",
    "\n",
    "tolerance = 0.01\n",
    "tolerance = 0.1\n",
    "threaded = False\n",
    "\n",
    "output = trial(BEGINNER, tolerance=tolerance, noflag=False, threaded=threaded)\n",
    "t.checkpoint(\"BEGINNER flag\", output)\n",
    "output = trial(BEGINNER, tolerance=tolerance, noflag=True, threaded=threaded)\n",
    "t.checkpoint(\"BEGINNER noflag\", output)\n",
    "output = trial(INTERMEDIATE, tolerance=tolerance, noflag=True, threaded=threaded)\n",
    "t.checkpoint(\"INTERMEDIATE noflag\", output)\n",
    "output = trial(EXPERT, tolerance=tolerance, noflag=True, threaded=threaded)\n",
    "t.checkpoint(\"EXPERT noflag\", output)\n",
    "\n",
    "output = t.finish()"
   ],
   "metadata": {
    "collapsed": false,
    "pycharm": {
     "name": "#%%\n"
    }
   }
  },
  {
   "cell_type": "code",
   "execution_count": 101,
   "outputs": [
    {
     "name": "stdout",
     "output_type": "stream",
     "text": [
      "[1, 1607018566.314, 1607018566.617, 0.30300021171569824, u'BEGINNER flag', 22, 15, 1, 0]\n",
      "[2, 1607018566.314, 1607018566.852, 0.2349998950958252, u'BEGINNER noflag', 10, 9, 0, 0]\n",
      "[3, 1607018566.314, 1607018567.725, 0.872999906539917, u'INTERMEDIATE noflag', 10, 9, 1, 1]\n",
      "[4, 1607018566.314, 1607018572.436, 4.711000204086304, u'EXPERT noflag', 25, 10, 1, 1]\n"
     ]
    }
   ],
   "source": [
    "for mode in output:\n",
    "    print(mode)\n",
    "    checkpoint_number, start_time, current_time, duration, message, total_games, total_wins, total_hopeless, hopeless_wins = mode\n",
    "    # print(\"algorithm {} got {:.2f}% taking {:.2f} seconds running {} episodes\".format((total_wins/total_games)*100,end_threaded-start_threaded, total_games))"
   ],
   "metadata": {
    "collapsed": false,
    "pycharm": {
     "name": "#%%\n"
    }
   }
  }
 ],
 "metadata": {
  "kernelspec": {
   "display_name": "Python 2",
   "language": "python",
   "name": "python2"
  },
  "language_info": {
   "codemirror_mode": {
    "name": "ipython",
    "version": 2
   },
   "file_extension": ".py",
   "mimetype": "text/x-python",
   "name": "python",
   "nbconvert_exporter": "python",
   "pygments_lexer": "ipython2",
   "version": "2.7.6"
  }
 },
 "nbformat": 4,
 "nbformat_minor": 0
}